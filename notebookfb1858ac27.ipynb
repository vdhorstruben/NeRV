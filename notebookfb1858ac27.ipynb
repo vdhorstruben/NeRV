{
 "cells": [
  {
   "cell_type": "code",
   "execution_count": 1,
   "id": "a6a5a857",
   "metadata": {
    "execution": {
     "iopub.execute_input": "2024-04-06T11:32:08.807058Z",
     "iopub.status.busy": "2024-04-06T11:32:08.806208Z",
     "iopub.status.idle": "2024-04-06T11:32:34.648795Z",
     "shell.execute_reply": "2024-04-06T11:32:34.647840Z"
    },
    "papermill": {
     "duration": 25.848943,
     "end_time": "2024-04-06T11:32:34.651109",
     "exception": false,
     "start_time": "2024-04-06T11:32:08.802166",
     "status": "completed"
    },
    "scrolled": true,
    "tags": []
   },
   "outputs": [
    {
     "name": "stdout",
     "output_type": "stream",
     "text": [
      "Collecting yaspin\r\n",
      "  Downloading yaspin-3.0.1-py3-none-any.whl.metadata (14 kB)\r\n",
      "Requirement already satisfied: termcolor<3.0,>=2.3 in /opt/conda/lib/python3.10/site-packages (from yaspin) (2.4.0)\r\n",
      "Downloading yaspin-3.0.1-py3-none-any.whl (17 kB)\r\n",
      "Installing collected packages: yaspin\r\n",
      "Successfully installed yaspin-3.0.1\r\n",
      "Requirement already satisfied: torch in /opt/conda/lib/python3.10/site-packages (2.1.2)\r\n",
      "Requirement already satisfied: numpy in /opt/conda/lib/python3.10/site-packages (1.26.4)\r\n",
      "Collecting pytorch_msssim\r\n",
      "  Downloading pytorch_msssim-1.0.0-py3-none-any.whl.metadata (8.0 kB)\r\n",
      "Requirement already satisfied: tqdm in /opt/conda/lib/python3.10/site-packages (4.66.1)\r\n",
      "Requirement already satisfied: torchvision in /opt/conda/lib/python3.10/site-packages (0.16.2)\r\n",
      "Collecting dahuffman\r\n",
      "  Downloading dahuffman-0.4.1-py2.py3-none-any.whl.metadata (4.7 kB)\r\n",
      "Requirement already satisfied: Pillow in /opt/conda/lib/python3.10/site-packages (9.5.0)\r\n",
      "Requirement already satisfied: tensorboard in /opt/conda/lib/python3.10/site-packages (2.15.1)\r\n",
      "Requirement already satisfied: filelock in /opt/conda/lib/python3.10/site-packages (from torch) (3.13.1)\r\n",
      "Requirement already satisfied: typing-extensions in /opt/conda/lib/python3.10/site-packages (from torch) (4.9.0)\r\n",
      "Requirement already satisfied: sympy in /opt/conda/lib/python3.10/site-packages (from torch) (1.12)\r\n",
      "Requirement already satisfied: networkx in /opt/conda/lib/python3.10/site-packages (from torch) (3.2.1)\r\n",
      "Requirement already satisfied: jinja2 in /opt/conda/lib/python3.10/site-packages (from torch) (3.1.2)\r\n",
      "Requirement already satisfied: fsspec in /opt/conda/lib/python3.10/site-packages (from torch) (2024.3.0)\r\n",
      "Requirement already satisfied: requests in /opt/conda/lib/python3.10/site-packages (from torchvision) (2.31.0)\r\n",
      "Requirement already satisfied: absl-py>=0.4 in /opt/conda/lib/python3.10/site-packages (from tensorboard) (1.4.0)\r\n",
      "Requirement already satisfied: grpcio>=1.48.2 in /opt/conda/lib/python3.10/site-packages (from tensorboard) (1.51.1)\r\n",
      "Requirement already satisfied: google-auth<3,>=1.6.3 in /opt/conda/lib/python3.10/site-packages (from tensorboard) (2.26.1)\r\n",
      "Requirement already satisfied: google-auth-oauthlib<2,>=0.5 in /opt/conda/lib/python3.10/site-packages (from tensorboard) (1.2.0)\r\n",
      "Requirement already satisfied: markdown>=2.6.8 in /opt/conda/lib/python3.10/site-packages (from tensorboard) (3.5.2)\r\n",
      "Requirement already satisfied: protobuf<4.24,>=3.19.6 in /opt/conda/lib/python3.10/site-packages (from tensorboard) (3.20.3)\r\n",
      "Requirement already satisfied: setuptools>=41.0.0 in /opt/conda/lib/python3.10/site-packages (from tensorboard) (69.0.3)\r\n",
      "Requirement already satisfied: six>1.9 in /opt/conda/lib/python3.10/site-packages (from tensorboard) (1.16.0)\r\n",
      "Requirement already satisfied: tensorboard-data-server<0.8.0,>=0.7.0 in /opt/conda/lib/python3.10/site-packages (from tensorboard) (0.7.2)\r\n",
      "Requirement already satisfied: werkzeug>=1.0.1 in /opt/conda/lib/python3.10/site-packages (from tensorboard) (3.0.1)\r\n",
      "Requirement already satisfied: cachetools<6.0,>=2.0.0 in /opt/conda/lib/python3.10/site-packages (from google-auth<3,>=1.6.3->tensorboard) (4.2.4)\r\n",
      "Requirement already satisfied: pyasn1-modules>=0.2.1 in /opt/conda/lib/python3.10/site-packages (from google-auth<3,>=1.6.3->tensorboard) (0.3.0)\r\n",
      "Requirement already satisfied: rsa<5,>=3.1.4 in /opt/conda/lib/python3.10/site-packages (from google-auth<3,>=1.6.3->tensorboard) (4.9)\r\n",
      "Requirement already satisfied: requests-oauthlib>=0.7.0 in /opt/conda/lib/python3.10/site-packages (from google-auth-oauthlib<2,>=0.5->tensorboard) (1.3.1)\r\n",
      "Requirement already satisfied: charset-normalizer<4,>=2 in /opt/conda/lib/python3.10/site-packages (from requests->torchvision) (3.3.2)\r\n",
      "Requirement already satisfied: idna<4,>=2.5 in /opt/conda/lib/python3.10/site-packages (from requests->torchvision) (3.6)\r\n",
      "Requirement already satisfied: urllib3<3,>=1.21.1 in /opt/conda/lib/python3.10/site-packages (from requests->torchvision) (1.26.18)\r\n",
      "Requirement already satisfied: certifi>=2017.4.17 in /opt/conda/lib/python3.10/site-packages (from requests->torchvision) (2024.2.2)\r\n",
      "Requirement already satisfied: MarkupSafe>=2.1.1 in /opt/conda/lib/python3.10/site-packages (from werkzeug>=1.0.1->tensorboard) (2.1.3)\r\n",
      "Requirement already satisfied: mpmath>=0.19 in /opt/conda/lib/python3.10/site-packages (from sympy->torch) (1.3.0)\r\n",
      "Requirement already satisfied: pyasn1<0.6.0,>=0.4.6 in /opt/conda/lib/python3.10/site-packages (from pyasn1-modules>=0.2.1->google-auth<3,>=1.6.3->tensorboard) (0.5.1)\r\n",
      "Requirement already satisfied: oauthlib>=3.0.0 in /opt/conda/lib/python3.10/site-packages (from requests-oauthlib>=0.7.0->google-auth-oauthlib<2,>=0.5->tensorboard) (3.2.2)\r\n",
      "Downloading pytorch_msssim-1.0.0-py3-none-any.whl (7.7 kB)\r\n",
      "Downloading dahuffman-0.4.1-py2.py3-none-any.whl (18 kB)\r\n",
      "Installing collected packages: dahuffman, pytorch_msssim\r\n",
      "Successfully installed dahuffman-0.4.1 pytorch_msssim-1.0.0\r\n"
     ]
    }
   ],
   "source": [
    "!pip install yaspin \n",
    "!pip install torch numpy pytorch_msssim tqdm torchvision dahuffman Pillow tensorboard\n"
   ]
  },
  {
   "cell_type": "code",
   "execution_count": 2,
   "id": "8f134dbb",
   "metadata": {
    "execution": {
     "iopub.execute_input": "2024-04-06T11:32:34.660081Z",
     "iopub.status.busy": "2024-04-06T11:32:34.659768Z",
     "iopub.status.idle": "2024-04-06T11:32:35.702162Z",
     "shell.execute_reply": "2024-04-06T11:32:35.701016Z"
    },
    "papermill": {
     "duration": 1.049385,
     "end_time": "2024-04-06T11:32:35.704522",
     "exception": false,
     "start_time": "2024-04-06T11:32:34.655137",
     "status": "completed"
    },
    "tags": []
   },
   "outputs": [
    {
     "name": "stdout",
     "output_type": "stream",
     "text": [
      "python: can't open file '/kaggle/working/train_nerv.py': [Errno 2] No such file or directory\r\n"
     ]
    }
   ],
   "source": [
    "!python train_nerv.py -e 300   --lower-width 96 --num-blocks 1 --dataset video01_frames --frame_gap 1 \\\n",
    "    --outf Cholec_80 --embed 1.25_40 --stem_dim_num 512_1  --reduction 2  --fc_hw_dim 9_16_26 --expansion 1  \\\n",
    "    --single_res --loss Fusion6   --warmup 0.2 --lr_type cosine  --strides 5 2 2 2 2  --conv_type conv \\\n",
    "    -b 1  --lr 0.0005 --norm none --act swish "
   ]
  },
  {
   "cell_type": "code",
   "execution_count": 3,
   "id": "caab5c51",
   "metadata": {
    "execution": {
     "iopub.execute_input": "2024-04-06T11:32:35.713519Z",
     "iopub.status.busy": "2024-04-06T11:32:35.713198Z",
     "iopub.status.idle": "2024-04-06T11:32:35.717828Z",
     "shell.execute_reply": "2024-04-06T11:32:35.716852Z"
    },
    "papermill": {
     "duration": 0.011478,
     "end_time": "2024-04-06T11:32:35.719892",
     "exception": false,
     "start_time": "2024-04-06T11:32:35.708414",
     "status": "completed"
    },
    "tags": []
   },
   "outputs": [],
   "source": [
    "# # Training the smallest model for 300 epochs\n",
    "# !python train_nerv.py -e 300   --lower-width 96 --num-blocks 1 --dataset video01_frames --frame_gap 1 \\\n",
    "#     --outf Cholec_80 --embed 1.25_40 --stem_dim_num 512_1  --reduction 2  --fc_hw_dim 9_16_26 --expansion 1  \\\n",
    "#     --single_res --loss Fusion6   --warmup 0.2 --lr_type cosine  --strides 5 2 2 2 2  --conv_type conv \\\n",
    "#     -b 1  --lr 0.0005 --norm none --act swish\\\n",
    "#     --weight /kaggle/working/NeRV/output/Cholec_80/video01_frames/embed1.25_40_512_1_fc_9_16_26__exp1.0_reduce2_low96_blk1_cycle1_gap1_e10_warm2_b1_conv_lr0.0005_cosine_Fusion6_Strd5,2,2,2,2_SinRes_actswish_/model_latest.pth --eval_only  --dump_images"
   ]
  },
  {
   "cell_type": "code",
   "execution_count": 4,
   "id": "8e57db51",
   "metadata": {
    "execution": {
     "iopub.execute_input": "2024-04-06T11:32:35.728385Z",
     "iopub.status.busy": "2024-04-06T11:32:35.727851Z",
     "iopub.status.idle": "2024-04-06T11:32:36.764268Z",
     "shell.execute_reply": "2024-04-06T11:32:36.763093Z"
    },
    "papermill": {
     "duration": 1.043132,
     "end_time": "2024-04-06T11:32:36.766599",
     "exception": false,
     "start_time": "2024-04-06T11:32:35.723467",
     "status": "completed"
    },
    "tags": []
   },
   "outputs": [
    {
     "name": "stdout",
     "output_type": "stream",
     "text": [
      "python: can't open file '/kaggle/working/train_nerv.py': [Errno 2] No such file or directory\r\n"
     ]
    }
   ],
   "source": [
    "# Training the largest model for 1200 epochs\n",
    "!python train_nerv.py -e 1200   --lower-width 96 --num-blocks 1 --dataset video01_frames --frame_gap 1 \\\n",
    "    --outf Cholec_80 --embed 1.25_40 --stem_dim_num 512_1  --reduction 2  --fc_hw_dim 9_16_112 --expansion 1  \\\n",
    "    --single_res --loss Fusion6   --warmup 0.2 --lr_type cosine  --strides 5 2 2 2 2  --conv_type conv \\\n",
    "    -b 1  --lr 0.0005 --norm none --act swish"
   ]
  }
 ],
 "metadata": {
  "kaggle": {
   "accelerator": "gpu",
   "dataSources": [],
   "isGpuEnabled": true,
   "isInternetEnabled": true,
   "language": "python",
   "sourceType": "notebook"
  },
  "kernelspec": {
   "display_name": "Python 3",
   "language": "python",
   "name": "python3"
  },
  "language_info": {
   "codemirror_mode": {
    "name": "ipython",
    "version": 3
   },
   "file_extension": ".py",
   "mimetype": "text/x-python",
   "name": "python",
   "nbconvert_exporter": "python",
   "pygments_lexer": "ipython3",
   "version": "3.10.13"
  },
  "papermill": {
   "default_parameters": {},
   "duration": 30.862809,
   "end_time": "2024-04-06T11:32:36.989412",
   "environment_variables": {},
   "exception": null,
   "input_path": "__notebook__.ipynb",
   "output_path": "__notebook__.ipynb",
   "parameters": {},
   "start_time": "2024-04-06T11:32:06.126603",
   "version": "2.5.0"
  }
 },
 "nbformat": 4,
 "nbformat_minor": 5
}
